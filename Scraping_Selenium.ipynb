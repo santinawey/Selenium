{
 "cells": [
  {
   "cell_type": "code",
   "execution_count": 1,
   "id": "84a96be2",
   "metadata": {},
   "outputs": [],
   "source": [
    "# Import the necessary modules\n",
    "import selenium\n",
    "from selenium import webdriver\n",
    "from selenium.webdriver.chrome.options import Options\n",
    "from selenium.webdriver.common.keys import Keys\n",
    "from selenium.webdriver.common.by import By\n",
    "\n",
    "import requests"
   ]
  },
  {
   "cell_type": "code",
   "execution_count": 2,
   "id": "580b9185",
   "metadata": {},
   "outputs": [],
   "source": [
    "# Define path for chromedriver\n",
    "#path = \"C:/Users/Santina.Wey/chromedriver.exe\"\n",
    "\n",
    "# Set Chrome options\n",
    "options = webdriver.ChromeOptions();\n",
    "\n",
    "# Set directory for download\n",
    "prefs = {\"download.default_directory\" : \"\\.\"};\n",
    "options.add_experimental_option(\"prefs\",prefs);\n",
    "         \n",
    "# Create the Chrome driver \n",
    "driver = webdriver.Chrome(options=options)"
   ]
  },
  {
   "cell_type": "code",
   "execution_count": 3,
   "id": "88a1d541",
   "metadata": {},
   "outputs": [
    {
     "name": "stdout",
     "output_type": "stream",
     "text": [
      "About – Santina Wey\n"
     ]
    }
   ],
   "source": [
    "# Navigate to the desired website\n",
    "driver.get(\"https://santinawey.com/about\")\n",
    "\n",
    "print(driver.title)"
   ]
  },
  {
   "cell_type": "code",
   "execution_count": 4,
   "id": "05401346",
   "metadata": {},
   "outputs": [
    {
     "name": "stdout",
     "output_type": "stream",
     "text": [
      "https://santinawey.com/wp-content/uploads/2023/07/Dr._Santina-Wey_Resume.pdf\n"
     ]
    }
   ],
   "source": [
    "# Retrieve download URL from link \n",
    "gotit=driver.find_element(By.CLASS_NAME, \"elementor-button-link\");\n",
    "url = gotit.get_property(\"href\")\n",
    "print(url)"
   ]
  },
  {
   "cell_type": "code",
   "execution_count": 5,
   "id": "b086e616",
   "metadata": {},
   "outputs": [
    {
     "name": "stdout",
     "output_type": "stream",
     "text": [
      "File downloaded successfully.\n"
     ]
    }
   ],
   "source": [
    "# Download CV\n",
    "download_path = r\"C:\\Users\\Santina.Wey\\cv.pdf\" \n",
    "\n",
    "# Set the custom headers to mimic a Chrome-based browser\n",
    "headers = {\n",
    "    \"User-Agent\": \"Mozilla/5.0 (Windows NT 10.0; Win64; x64) AppleWebKit/537.36 (KHTML, like Gecko) Chrome/91.0.4472.124 Safari/537.36\"\n",
    "}\n",
    "\n",
    "# Send a GET request with custom headers to download the file\n",
    "response = requests.get(url, headers=headers, stream=True)\n",
    "\n",
    "# Check if the request was successful (status code 200)\n",
    "if response.status_code == 200:\n",
    "    # Open the file in binary write mode and write the downloaded content\n",
    "    with open(download_path, \"wb\") as file:\n",
    "        for chunk in response.iter_content(chunk_size=8192):\n",
    "            file.write(chunk)\n",
    "    \n",
    "    print(\"File downloaded successfully.\")\n",
    "else:\n",
    "    print(\"Failed to download the file. Status code:\", response.status_code)"
   ]
  },
  {
   "cell_type": "code",
   "execution_count": 6,
   "id": "1ec84c71",
   "metadata": {},
   "outputs": [],
   "source": [
    "# Quit driver\n",
    "driver.quit()"
   ]
  },
  {
   "cell_type": "code",
   "execution_count": null,
   "id": "d61e0f1b",
   "metadata": {},
   "outputs": [],
   "source": []
  }
 ],
 "metadata": {
  "kernelspec": {
   "display_name": "Python 3 (ipykernel)",
   "language": "python",
   "name": "python3"
  },
  "language_info": {
   "codemirror_mode": {
    "name": "ipython",
    "version": 3
   },
   "file_extension": ".py",
   "mimetype": "text/x-python",
   "name": "python",
   "nbconvert_exporter": "python",
   "pygments_lexer": "ipython3",
   "version": "3.10.11"
  }
 },
 "nbformat": 4,
 "nbformat_minor": 5
}
